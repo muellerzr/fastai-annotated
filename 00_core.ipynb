{
 "cells": [
  {
   "cell_type": "code",
   "execution_count": null,
   "metadata": {},
   "outputs": [],
   "source": [
    "# default_exp foundations"
   ]
  },
  {
   "cell_type": "markdown",
   "metadata": {},
   "source": [
    "# Foundations\n",
    "\n",
    "> Foundational classes for well-versed typings and descriptors"
   ]
  },
  {
   "cell_type": "code",
   "execution_count": null,
   "metadata": {},
   "outputs": [],
   "source": [
    "#hide\n",
    "from nbdev.showdoc import *"
   ]
  },
  {
   "cell_type": "code",
   "execution_count": null,
   "metadata": {},
   "outputs": [],
   "source": [
    "#export\n",
    "from enum import Enum, EnumMeta"
   ]
  },
  {
   "cell_type": "code",
   "execution_count": null,
   "metadata": {},
   "outputs": [],
   "source": [
    "#export\n",
    "class DirectValueMeta(EnumMeta):\n",
    "    \"Metaclass that allows for directly getting an enum attribute\"\n",
    "    def __getattribute__(cls, name):\n",
    "        value = super().__getattribute__(name)\n",
    "        if isinstance(value, cls):\n",
    "            value = value.value\n",
    "        return value"
   ]
  },
  {
   "cell_type": "code",
   "execution_count": null,
   "metadata": {},
   "outputs": [],
   "source": [
    "#export\n",
    "class DocumentedEnum(Enum, metaclass=DirectValueMeta):\n",
    "    \"\"\"\n",
    "    An `Enum` that can have its members have custom docstrings\n",
    "\n",
    "    Based on https://stackoverflow.com/questions/19330460/how-do-i-put-docstrings-on-enums\n",
    "    \"\"\"\n",
    "    \n",
    "    def __new__(cls, *args):\n",
    "        obj = object.__new__(cls)\n",
    "        if len(args) > 1:\n",
    "            obj._value_ = args[0]\n",
    "        else:\n",
    "            obj._value_ = None\n",
    "        return obj\n",
    "    \n",
    "    def __repr__(self):\n",
    "        r = f'<{self.__class__.__name__}.{self._name_}: {self._value_}>'\n",
    "        if hasattr(self, '__doc__'):\n",
    "            r += f'\\n  {self.__doc__}'\n",
    "        return r\n",
    "        \n",
    "\n",
    "    def __init__(self, *args):\n",
    "        \"\"\"\n",
    "        Creates a generic enumeration with potential assigning of a member docstring\n",
    "\n",
    "        Should be passed in the form of:\n",
    "          value, docstring\n",
    "        Or:\n",
    "          docstring\n",
    "        \"\"\"\n",
    "        if len(args) == 1:\n",
    "            self._value_ = self._name_.lower()\n",
    "        if isinstance(args[-1], str):\n",
    "            self.__doc__ = args[-1]"
   ]
  },
  {
   "cell_type": "markdown",
   "metadata": {},
   "source": [
    "The `DocumentedEnum` let's us define custom `enum` classes that can have their members be documented. This let's us improve the readability of namespace classes, especially if those enum members have very specific meanings.\n",
    "\n",
    "We can also use the member name as the value, with the following string dictating the docstring."
   ]
  },
  {
   "cell_type": "code",
   "execution_count": null,
   "metadata": {},
   "outputs": [],
   "source": [
    "class Weekday(DocumentedEnum):\n",
    "    \"Days of the week\"\n",
    "    MONDAY = 1, \"The first day of the week\"\n",
    "    TUESDAY = 2, \"The second day of the week\"\n",
    "    WEDNESDAY = 3, \"The third day of the week\"\n",
    "    THURSDAY = 4, \"The fourth day of the week\"\n",
    "    FRIDAY = 5, \"The fifth day of the week\"\n",
    "    SATURDAY = 6, \"The sixth day of the week\"\n",
    "    SUNDAY = \"The seventh day of the week\""
   ]
  },
  {
   "cell_type": "code",
   "execution_count": null,
   "metadata": {},
   "outputs": [
    {
     "data": {
      "text/markdown": [
       "<h4 id=\"MONDAY\" class=\"doc_header\"><code>MONDAY</code><a href=\"\" class=\"source_link\" style=\"float:right\">[source]</a></h4>\n",
       "\n",
       "The first day of the week"
      ],
      "text/plain": [
       "<IPython.core.display.Markdown object>"
      ]
     },
     "metadata": {},
     "output_type": "display_data"
    }
   ],
   "source": [
    "show_doc(Weekday.MONDAY)"
   ]
  },
  {
   "cell_type": "markdown",
   "metadata": {},
   "source": [
    "These docstrings will also show in the general `__repr__`:"
   ]
  },
  {
   "cell_type": "code",
   "execution_count": null,
   "metadata": {},
   "outputs": [
    {
     "data": {
      "text/plain": [
       "<Weekday.MONDAY: 1>\n",
       "  The first day of the week"
      ]
     },
     "execution_count": null,
     "metadata": {},
     "output_type": "execute_result"
    }
   ],
   "source": [
    "Weekday.MONDAY"
   ]
  },
  {
   "cell_type": "markdown",
   "metadata": {},
   "source": [
    "These are optional, so if a docstring is not provided it will fallback to the enum's docstring:"
   ]
  },
  {
   "cell_type": "code",
   "execution_count": null,
   "metadata": {},
   "outputs": [
    {
     "data": {
      "text/markdown": [
       "<h4 id=\"SUNDAY\" class=\"doc_header\"><code>SUNDAY</code><a href=\"\" class=\"source_link\" style=\"float:right\">[source]</a></h4>\n",
       "\n",
       "The seventh day of the week"
      ],
      "text/plain": [
       "<IPython.core.display.Markdown object>"
      ]
     },
     "metadata": {},
     "output_type": "display_data"
    }
   ],
   "source": [
    "show_doc(Weekday.SUNDAY)"
   ]
  },
  {
   "cell_type": "code",
   "execution_count": null,
   "metadata": {},
   "outputs": [
    {
     "data": {
      "text/plain": [
       "<Weekday.SUNDAY: sunday>\n",
       "  The seventh day of the week"
      ]
     },
     "execution_count": null,
     "metadata": {},
     "output_type": "execute_result"
    }
   ],
   "source": [
    "Weekday.SUNDAY"
   ]
  },
  {
   "cell_type": "markdown",
   "metadata": {},
   "source": [
    "## Utility Functions"
   ]
  },
  {
   "cell_type": "code",
   "execution_count": null,
   "metadata": {},
   "outputs": [],
   "source": [
    "#export\n",
    "def noop (x=None, *args, **kwargs):\n",
    "    \"Do nothing\"\n",
    "    return x"
   ]
  },
  {
   "cell_type": "code",
   "execution_count": null,
   "metadata": {},
   "outputs": [],
   "source": []
  }
 ],
 "metadata": {
  "kernelspec": {
   "display_name": "Python 3 (ipykernel)",
   "language": "python",
   "name": "python3"
  }
 },
 "nbformat": 4,
 "nbformat_minor": 4
}
